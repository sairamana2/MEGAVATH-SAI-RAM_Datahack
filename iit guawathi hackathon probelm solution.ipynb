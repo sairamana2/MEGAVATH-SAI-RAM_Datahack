{
 "cells": [
  {
   "cell_type": "code",
   "execution_count": 1,
   "id": "1ddc4faf-8100-44fb-bba0-96010750fc8e",
   "metadata": {},
   "outputs": [],
   "source": [
    "import pandas as pd\n",
    "from sklearn.model_selection import train_test_split\n",
    "from sklearn.preprocessing import OneHotEncoder\n",
    "from sklearn.compose import ColumnTransformer\n",
    "from sklearn.pipeline import Pipeline\n",
    "from sklearn.impute import SimpleImputer\n",
    "from sklearn.ensemble import RandomForestClassifier\n",
    "from sklearn.multioutput import MultiOutputClassifier\n",
    "from sklearn.metrics import roc_auc_score"
   ]
  },
  {
   "cell_type": "code",
   "execution_count": 2,
   "id": "dbc6af66-7ef3-42f2-8fa1-a6495013420a",
   "metadata": {},
   "outputs": [],
   "source": [
    "# Loading the dataset \n",
    "train_x = pd.read_csv('train_x.csv')\n",
    "train_y = pd.read_csv('train_y.csv')\n",
    "\n",
    "data = pd.merge(train_x, train_y, on='respondent_id')"
   ]
  },
  {
   "cell_type": "code",
   "execution_count": 3,
   "id": "86bb96c9-b8e2-494c-b807-6b583201c484",
   "metadata": {},
   "outputs": [],
   "source": [
    "# Splitting data into training and testing sets\n",
    "X = data.drop(['respondent_id','xyz_vaccine','seasonal_vaccine'], axis=1)\n",
    "y = data[['xyz_vaccine','seasonal_vaccine']]\n"
   ]
  },
  {
   "cell_type": "code",
   "execution_count": 4,
   "id": "bb7d7110-8e0a-41e1-a589-da309ddaee1a",
   "metadata": {},
   "outputs": [],
   "source": [
    "# Preprocessing steps\n",
    "categorical_features = ['age_group','education','race','sex','income_poverty','marital_status','rent_or_own','employment_status', \n",
    "                        'hhs_geo_region','census_msa','employment_industry','employment_occupation']\n",
    "\n",
    "preprocessor = ColumnTransformer( transformers=[('cat', OneHotEncoder(handle_unknown='ignore'), categorical_features)], remainder='passthrough')\n"
   ]
  },
  {
   "cell_type": "code",
   "execution_count": 5,
   "id": "0d7852b6-3176-4859-84db-8b45e78ae614",
   "metadata": {},
   "outputs": [],
   "source": [
    "model = Pipeline(steps=[('preprocessor', preprocessor), ('classifier', MultiOutputClassifier(RandomForestClassifier(random_state=42)))])\n"
   ]
  },
  {
   "cell_type": "code",
   "execution_count": 6,
   "id": "9ff84603-5e9d-46d2-a4e1-1283bad9c3ee",
   "metadata": {},
   "outputs": [],
   "source": [
    "# Split the data\n",
    "X_train, X_test, y_train, y_test = train_test_split(X, y, test_size=0.2, random_state=42)\n"
   ]
  },
  {
   "cell_type": "code",
   "execution_count": null,
   "id": "d76b6c4f-1d3d-4c12-91e1-f12237298354",
   "metadata": {},
   "outputs": [],
   "source": [
    "# Training the model\n",
    "model.fit(X_train, y_train)\n"
   ]
  },
  {
   "cell_type": "code",
   "execution_count": null,
   "id": "5bada2e0-5cfe-48d8-9590-6545408e7791",
   "metadata": {},
   "outputs": [],
   "source": [
    "# Predicting the probabilities\n",
    "y_pred_proba = model.predict_proba(X_test)\n"
   ]
  },
  {
   "cell_type": "code",
   "execution_count": null,
   "id": "a4a40865-d740-43d6-8350-8095330aa9e1",
   "metadata": {},
   "outputs": [],
   "source": [
    "# Probabilities for each label\n",
    "y_pred_proba_xyz = [prob[1] for prob in y_pred_proba[0]]\n",
    "y_pred_proba_seasonal = [prob[1] for prob in y_pred_proba[1]]\n"
   ]
  },
  {
   "cell_type": "code",
   "execution_count": null,
   "id": "6b588d16-fa5b-4d9d-9c72-edaf23404a19",
   "metadata": {},
   "outputs": [],
   "source": [
    "# Calculating the ROC(reciever operating characteristic) AUC(area under the curve) scores\n",
    "roc_auc_xyz = roc_auc_score(y_test['xyz_vaccine'], y_pred_proba_xyz)\n",
    "roc_auc_seasonal = roc_auc_score(y_test['seasonal_vaccine'], y_pred_proba_seasonal)\n",
    "mean_roc_auc = (roc_auc_xyz + roc_auc_seasonal) / 2\n"
   ]
  },
  {
   "cell_type": "code",
   "execution_count": null,
   "id": "13d46810-aae0-44b4-bd89-932900ab540f",
   "metadata": {},
   "outputs": [],
   "source": [
    "print(f'ROC AUC for xyz_vaccine: {roc_auc_xyz}')\n",
    "print(f'ROC AUC for seasonal_vaccine: {roc_auc_seasonal}')\n",
    "print(f'Mean ROC AUC: {mean_roc_auc}')\n"
   ]
  },
  {
   "cell_type": "code",
   "execution_count": null,
   "id": "03542ea6-63c4-4c30-9bd1-48e9d6d2ef84",
   "metadata": {},
   "outputs": [],
   "source": [
    "# Preparing submission file\n",
    "test_x = pd.read_csv('test_x.csv')\n",
    "test_pred_proba = model.predict_proba(test_x.drop(['respondent_id'], axis=1))\n"
   ]
  },
  {
   "cell_type": "code",
   "execution_count": null,
   "id": "0c2d5f1b-2860-4171-be18-7b136aacff95",
   "metadata": {},
   "outputs": [],
   "source": [
    "submission = pd.DataFrame({\n",
    "    'respondent_id': test_x['respondent_id'],\n",
    "    'xyz_vaccine': [prob[1] for prob in test_pred_proba[0]],\n",
    "    'seasonal_vaccine': [prob[1] for prob in test_pred_proba[1]]\n",
    "})\n",
    "\n",
    "submission.to_csv('submission.csv', index=False)\n"
   ]
  },
  {
   "cell_type": "code",
   "execution_count": null,
   "id": "2d10cfa2-2636-416a-ae29-ab96a98ad222",
   "metadata": {},
   "outputs": [],
   "source": []
  }
 ],
 "metadata": {
  "kernelspec": {
   "display_name": "Python 3 (ipykernel)",
   "language": "python",
   "name": "python3"
  },
  "language_info": {
   "codemirror_mode": {
    "name": "ipython",
    "version": 3
   },
   "file_extension": ".py",
   "mimetype": "text/x-python",
   "name": "python",
   "nbconvert_exporter": "python",
   "pygments_lexer": "ipython3",
   "version": "3.12.3"
  }
 },
 "nbformat": 4,
 "nbformat_minor": 5
}
